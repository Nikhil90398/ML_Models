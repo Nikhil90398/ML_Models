{
  "nbformat": 4,
  "nbformat_minor": 0,
  "metadata": {
    "colab": {
      "name": "REGRESSIONML-BLUEPRINT.ipynb",
      "provenance": [],
      "toc_visible": true,
      "collapsed_sections": [],
      "include_colab_link": true
    },
    "kernelspec": {
      "name": "python3",
      "display_name": "Python 3"
    },
    "language_info": {
      "name": "python"
    }
  },
  "cells": [
    {
      "cell_type": "markdown",
      "metadata": {
        "id": "view-in-github",
        "colab_type": "text"
      },
      "source": [
        "<a href=\"https://colab.research.google.com/github/Nikhil90398/Regression_Models/blob/main/REGRESSIONML_BLUEPRINT.ipynb\" target=\"_parent\"><img src=\"https://colab.research.google.com/assets/colab-badge.svg\" alt=\"Open In Colab\"/></a>"
      ]
    },
    {
      "cell_type": "markdown",
      "source": [
        "#Topic\n"
      ],
      "metadata": {
        "id": "7Vxy3OgU9Tgx"
      }
    },
    {
      "cell_type": "markdown",
      "source": [
        "# Question/overview of data\n"
      ],
      "metadata": {
        "id": "sG6-L1a49ZcM"
      }
    },
    {
      "cell_type": "markdown",
      "source": [
        "#Step 1 - Download and Explore the Data\n",
        "\n",
        "The dataset is available as a ZIP file at the following url:"
      ],
      "metadata": {
        "id": "ojBFx6ti9lbH"
      }
    },
    {
      "cell_type": "code",
      "execution_count": null,
      "metadata": {
        "id": "oZM0WUBm8o-0"
      },
      "outputs": [],
      "source": [
        "dataset_url = "
      ]
    },
    {
      "cell_type": "code",
      "source": [
        "!pip install opendatasets"
      ],
      "metadata": {
        "id": "JwFbQ9Lh9sgG"
      },
      "execution_count": null,
      "outputs": []
    },
    {
      "cell_type": "code",
      "source": [
        "import opendatasets as od\n",
        "od.download(dataset_url)"
      ],
      "metadata": {
        "colab": {
          "base_uri": "https://localhost:8080/"
        },
        "id": "HoHK22Xw9usQ",
        "outputId": "6e07c3e4-b9f6-44a6-ca61-c54483eb658c"
      },
      "execution_count": null,
      "outputs": [
        {
          "output_type": "stream",
          "name": "stdout",
          "text": [
            "Skipping, found downloaded files in \"./calcofi\" (use force=True to force download)\n"
          ]
        }
      ]
    },
    {
      "cell_type": "code",
      "source": [
        "import os\n",
        "data_dir='/content/calcofi'\n",
        "os.listdir(data_dir)"
      ],
      "metadata": {
        "colab": {
          "base_uri": "https://localhost:8080/"
        },
        "id": "U4jMfvdq9yr7",
        "outputId": "1b447afd-b17e-47fe-b227-6019714bf978"
      },
      "execution_count": null,
      "outputs": [
        {
          "output_type": "execute_result",
          "data": {
            "text/plain": [
              "['bottle.csv', 'cast.csv']"
            ]
          },
          "metadata": {},
          "execution_count": 5
        }
      ]
    },
    {
      "cell_type": "code",
      "source": [
        "import pandas as pd\n",
        "import numpy as np\n",
        "import matplotlib.pyplot as plt"
      ],
      "metadata": {
        "id": "eyldmE1P91dJ"
      },
      "execution_count": null,
      "outputs": []
    },
    {
      "cell_type": "code",
      "source": [
        "path= data_dir +\".......csv\""
      ],
      "metadata": {
        "colab": {
          "base_uri": "https://localhost:8080/"
        },
        "id": "cv7Z48c894tt",
        "outputId": "07a388b5-75de-430a-eb48-ebc303a03cd7"
      },
      "execution_count": null,
      "outputs": [
        {
          "output_type": "stream",
          "name": "stderr",
          "text": [
            "/usr/local/lib/python3.7/dist-packages/IPython/core/interactiveshell.py:2882: DtypeWarning: Columns (47,73) have mixed types.Specify dtype option on import or set low_memory=False.\n",
            "  exec(code_obj, self.user_global_ns, self.user_ns)\n"
          ]
        }
      ]
    },
    {
      "cell_type": "markdown",
      "source": [
        "> **QUESTION 1**: Load the data from the file `train.csv` into a Pandas data frame."
      ],
      "metadata": {
        "id": "tqxkSq_-xaYF"
      }
    },
    {
      "cell_type": "code",
      "source": [
        "df=pd.read_csv(path)"
      ],
      "metadata": {
        "id": "9OP3PQR9xiyC"
      },
      "execution_count": null,
      "outputs": []
    },
    {
      "cell_type": "code",
      "source": [
        "df.head()"
      ],
      "metadata": {
        "id": "mHG2aEk1-Y1l"
      },
      "execution_count": null,
      "outputs": []
    },
    {
      "cell_type": "markdown",
      "source": [
        "Let's explore the columns and data types within the dataset."
      ],
      "metadata": {
        "id": "yJ5tgOSxxtTo"
      }
    },
    {
      "cell_type": "code",
      "source": [
        "bottle.info()"
      ],
      "metadata": {
        "id": "K9_jXt1F-f91"
      },
      "execution_count": null,
      "outputs": []
    },
    {
      "cell_type": "markdown",
      "source": [
        "> **QUESTION 2**: How many rows and columns does the dataset contain? "
      ],
      "metadata": {
        "id": "C0DMkjx5x0rV"
      }
    },
    {
      "cell_type": "code",
      "source": [
        "n_rows = df.shape[0]"
      ],
      "metadata": {
        "id": "pOnPw7cdx4-2"
      },
      "execution_count": null,
      "outputs": []
    },
    {
      "cell_type": "code",
      "source": [
        "n_cols = df.shape[1]"
      ],
      "metadata": {
        "id": "rRz3sqzSx4yE"
      },
      "execution_count": null,
      "outputs": []
    },
    {
      "cell_type": "code",
      "source": [
        "print('The dataset contains {} rows and {} columns.'.format(n_rows, n_cols))"
      ],
      "metadata": {
        "id": "su7es1Vpx4mU"
      },
      "execution_count": null,
      "outputs": []
    },
    {
      "cell_type": "markdown",
      "source": [
        "> **(OPTIONAL) QUESTION**: Before training the model, you may want to explore and visualize data from the various columns within the dataset, and study their relations. Create some graphs and summarize your insights using the empty cells below."
      ],
      "metadata": {
        "id": "Agbs6-ljyGgr"
      }
    },
    {
      "cell_type": "markdown",
      "source": [
        "* libraries that we are going to use in this collab "
      ],
      "metadata": {
        "id": "cNIR7Kk0zHjn"
      }
    },
    {
      "cell_type": "code",
      "source": [
        "import seaborn as sns\n",
        "import plotly.express as px\n",
        "import matplotlib\n",
        "import matplotlib.pyplot as plt\n",
        "import seaborn as sns\n",
        "%matplotlib inline\n",
        "#The following settings will improve the default style and font sizes for our charts\n",
        "sns.set_style('darkgrid')\n",
        "matplotlib.rcParams['font.size'] = 14\n",
        "matplotlib.rcParams['figure.figsize'] = (10, 6)\n",
        "matplotlib.rcParams['figure.facecolor'] = '#00000000'"
      ],
      "metadata": {
        "id": "N2J8If1ozGR4"
      },
      "execution_count": null,
      "outputs": []
    },
    {
      "cell_type": "markdown",
      "source": [
        "> **QUESTION 3**: How many `missing values` does the dataset contain? "
      ],
      "metadata": {
        "id": "n0UAQgDZyQRa"
      }
    },
    {
      "cell_type": "code",
      "source": [
        "# Here we will check the percentage of nan values present in each feature\n",
        "# 1 -step make the list of features which has missing values\n",
        "feature_with_na=[feature for feature in df.columns if df[feature].isnull().sum()>1]\n",
        "# 2- step print the feature name and the percentage of missing values\n",
        "for feature in feature_with_na:\n",
        "  print(feature, np.round(df[feature].isnull().mean(), 4)*100,  \" % missing values\")"
      ],
      "metadata": {
        "id": "14IzWrXlFLKt"
      },
      "execution_count": null,
      "outputs": []
    },
    {
      "cell_type": "code",
      "source": [
        "#lets drop columns which have nan value above 40%\n",
        "perc=40.0\n",
        "min_count=int(((100-perc)/100)*bottle.shape[0] + 1)\n",
        "bottle=bottle.dropna(axis=1,thresh=min_count)"
      ],
      "metadata": {
        "id": "qTo0P04LJWIE"
      },
      "execution_count": null,
      "outputs": []
    },
    {
      "cell_type": "markdown",
      "source": [
        "* list of numerical variables"
      ],
      "metadata": {
        "id": "SbOu8AE_HVMe"
      }
    },
    {
      "cell_type": "code",
      "source": [
        "# list of numerical variables\n",
        "numerical_features = [feature for feature in df.columns if df[feature].dtypes != \"O\"]  \n",
        "print(\"number of numerical variables: \",len(numerical_features))    \n",
        "# visualise the numerical columns\n",
        "bottle[numerical_features].head()"
      ],
      "metadata": {
        "id": "8mpbFdfaGw-G"
      },
      "execution_count": null,
      "outputs": []
    },
    {
      "cell_type": "markdown",
      "source": [
        "* Discrete Variables"
      ],
      "metadata": {
        "id": "swI5LHclzZVG"
      }
    },
    {
      "cell_type": "code",
      "source": [
        "## Numerical variables are usually of 2 type\n",
        "## 1 Discrete Variables\n",
        "discrete_feature=[feature for feature in numerical_features if len(bottle[feature].unique())<25]\n",
        "print(\"Discrete Variables Count: {}\".format(len(discrete_feature)))"
      ],
      "metadata": {
        "colab": {
          "base_uri": "https://localhost:8080/"
        },
        "id": "ne7loekKdPz6",
        "outputId": "b61bb3b2-511c-4d58-cf05-45e5d7c4ab1c"
      },
      "execution_count": null,
      "outputs": [
        {
          "output_type": "stream",
          "name": "stdout",
          "text": [
            "Discrete Variables Count: 13\n"
          ]
        }
      ]
    },
    {
      "cell_type": "code",
      "source": [
        "for feature in discrete_feature:\n",
        "  data=df.copy()\n",
        "  data.groupby(feature)[\"T_degC\"].sum().plot.bar()\n",
        "  plt.xlabel(feature)\n",
        "  plt.ylabel('temperature')\n",
        "  plt.show()"
      ],
      "metadata": {
        "id": "EwgSijyQfIS0"
      },
      "execution_count": null,
      "outputs": []
    },
    {
      "cell_type": "markdown",
      "source": [
        "* Continous variable"
      ],
      "metadata": {
        "id": "1WiQn9X1zj6B"
      }
    },
    {
      "cell_type": "code",
      "source": [
        "# 2-Continous variable\n",
        "continuous_feature=[feature for feature in numerical_features if feature not in discrete_feature]\n",
        "print(\"Continuous Variables Count {}\".format(len(continuous_feature)))"
      ],
      "metadata": {
        "id": "0OzJJHYyeM9b"
      },
      "execution_count": null,
      "outputs": []
    },
    {
      "cell_type": "code",
      "source": [
        "for feature in continuous_feature:\n",
        "    data=df.copy()\n",
        "    data[feature].hist(bins=25)\n",
        "    plt.xlabel(feature)\n",
        "    plt.ylabel(\"Count\")\n",
        "    plt.title(feature)\n",
        "    plt.show()"
      ],
      "metadata": {
        "id": "_1PL-AoyeW9P"
      },
      "execution_count": null,
      "outputs": []
    },
    {
      "cell_type": "markdown",
      "source": [
        "# Step 2 - Prepare the Dataset for Training\n",
        "\n",
        "\n",
        "Before we can train the model, we need to prepare the dataset. Here are the steps we'll follow:\n",
        "\n",
        "1. Identify the input and target column(s) for training the model.\n",
        "2. Identify numeric and categorical input columns.\n",
        "3. [Impute](https://scikit-learn.org/stable/modules/impute.html) (fill) missing values in numeric columns\n",
        "4. [Scale](https://scikit-learn.org/stable/modules/preprocessing.html#scaling-features-to-a-range) values in numeric columns to a $(0,1)$ range.\n",
        "5. [Encode](https://scikit-learn.org/stable/modules/preprocessing.html#encoding-categorical-features) categorical data into one-hot vectors.\n",
        "6. Split the dataset into training and validation sets.\n"
      ],
      "metadata": {
        "id": "0WwkH6uC9_EO"
      }
    },
    {
      "cell_type": "markdown",
      "source": [
        "## Identify Inputs and Targets\n",
        "\n",
        "While the dataset contains `81` columns, not all of them are useful for modeling. Note the following:\n",
        "\n",
        "- The first column `Id` is a unique ID for each house and isn't useful for training the model.\n",
        "- The last column `SalePrice` contains the value we need to predict i.e. it's the target column.\n",
        "- Data from all the other columns (except the first and the last column) can be used as inputs to the model.\n",
        " "
      ],
      "metadata": {
        "id": "s2qnXMj_h2z0"
      }
    },
    {
      "cell_type": "markdown",
      "source": [
        "> **QUESTION 4**: Create a list `input_cols` of column names containing data that can be used as input to train the model, and identify the target column as the variable `target_col`."
      ],
      "metadata": {
        "id": "zvWhINVt0egw"
      }
    },
    {
      "cell_type": "code",
      "source": [
        "# Identify the input columns (a list of column names)\n",
        "input_cols = list(df.columns)[1:-1]"
      ],
      "metadata": {
        "id": "7T7AeTcxhvzW"
      },
      "execution_count": null,
      "outputs": []
    },
    {
      "cell_type": "code",
      "source": [
        "print(target_col)"
      ],
      "metadata": {
        "id": "fc-DatjX04qx"
      },
      "execution_count": null,
      "outputs": []
    },
    {
      "cell_type": "code",
      "source": [
        "# Identify the name of the target column (a single string, not a list)\n",
        "target_col =list(prices_df.columns)[-1]"
      ],
      "metadata": {
        "id": "2w8Fp_HB0mMu"
      },
      "execution_count": null,
      "outputs": []
    },
    {
      "cell_type": "code",
      "source": [
        "print(target_col)"
      ],
      "metadata": {
        "id": "7HHkRWNm03dP"
      },
      "execution_count": null,
      "outputs": []
    },
    {
      "cell_type": "markdown",
      "source": [
        "Make sure that the `Id` and `SalePrice` columns are not included in `input_cols`.\n",
        "\n",
        "Now that we've identified the input and target columns, we can separate input & target data."
      ],
      "metadata": {
        "id": "JsdUeloo0wJx"
      }
    },
    {
      "cell_type": "code",
      "source": [
        "inputs_df = df[input_cols]\n",
        "targets = df[target_col]"
      ],
      "metadata": {
        "id": "TQJmCsQo095e"
      },
      "execution_count": null,
      "outputs": []
    },
    {
      "cell_type": "markdown",
      "source": [
        "##Identify Numeric and Categorical Data\n",
        "The next step in data preparation is to identify numeric and categorical columns. We can do this by looking at the data type of each column."
      ],
      "metadata": {
        "id": "EwazBRPDiNap"
      }
    },
    {
      "cell_type": "markdown",
      "source": [
        "> **QUESTION 5**: Crate two lists `numeric_cols` and `categorical_cols` containing names of numeric and categorical input columns within the dataframe respectively. Numeric columns have data types `int64` and `float64`, whereas categorical columns have the data type `object`.\n",
        ">\n",
        "> *Hint*: See this [StackOverflow question](https://stackoverflow.com/questions/25039626/how-do-i-find-numeric-columns-in-pandas). "
      ],
      "metadata": {
        "id": "d9ocavp91cdT"
      }
    },
    {
      "cell_type": "code",
      "source": [
        "numeric_cols = inputs_df.select_dtypes(include=['int64', 'float64']).columns.tolist()\n",
        "categorical_cols = inputs_df.select_dtypes(include=[object]).columns.tolist()"
      ],
      "metadata": {
        "id": "Vr6XCGsPiNAJ"
      },
      "execution_count": null,
      "outputs": []
    },
    {
      "cell_type": "markdown",
      "source": [
        "##Impute Numerical Data\n",
        "Some of the numeric columns in our dataset contain missing values (nan)"
      ],
      "metadata": {
        "id": "F5XbLVc2ic2h"
      }
    },
    {
      "cell_type": "code",
      "source": [
        "missing_counts = inputs_df[numeric_cols].isna().sum().sort_values(ascending=False)\n",
        "missing_counts[missing_counts > 0]"
      ],
      "metadata": {
        "id": "l3FsYhw4iecs"
      },
      "execution_count": null,
      "outputs": []
    },
    {
      "cell_type": "markdown",
      "source": [
        "Machine learning models can't work with missing data. The process of filling missing values is called [imputation](https://scikit-learn.org/stable/modules/impute.html).\n",
        "\n",
        "<img src=\"https://i.imgur.com/W7cfyOp.png\" width=\"480\">\n",
        "\n",
        "There are several techniques for imputation, but we'll use the most basic one: replacing missing values with the average value in the column using the `SimpleImputer` class from `sklearn.impute`.\n"
      ],
      "metadata": {
        "id": "OfIDO-cv1uB4"
      }
    },
    {
      "cell_type": "markdown",
      "source": [
        "> **QUESTION 6**: Impute (fill) missing values in the numeric columns of `inputs_df` using a `SimpleImputer`. "
      ],
      "metadata": {
        "id": "91YfP3zG18Xm"
      }
    },
    {
      "cell_type": "code",
      "source": [
        "from sklearn.impute import SimpleImputer\n",
        "# 1. Create the imputer\n",
        "imputer = SimpleImputer(strategy = 'mean')\n",
        "\n",
        "# 2. Fit the imputer to the numeric colums\n",
        "imputer.fit(inputs_df[numeric_cols])\n",
        "\n",
        "# 3. Transform and replace the numeric columns\n",
        "inputs_df[numeric_cols] = imputer.transform(inputs_df[numeric_cols])"
      ],
      "metadata": {
        "id": "NUGBkrYH1p8m"
      },
      "execution_count": null,
      "outputs": []
    },
    {
      "cell_type": "code",
      "source": [
        "missing_counts = inputs_df[numeric_cols].isna().sum().sort_values(ascending=False)\n",
        "missing_counts[missing_counts > 0]"
      ],
      "metadata": {
        "id": "bEIEeYBH1_Jk"
      },
      "execution_count": null,
      "outputs": []
    },
    {
      "cell_type": "markdown",
      "source": [
        "##Scale Numerical Values\n",
        "The numeric columns in our dataset have varying ranges."
      ],
      "metadata": {
        "id": "K0xV7nPui-VH"
      }
    },
    {
      "cell_type": "code",
      "source": [
        "inputs_df[numeric_cols].describe().loc[['min', 'max']]"
      ],
      "metadata": {
        "id": "KkHP1jBNjCoM"
      },
      "execution_count": null,
      "outputs": []
    },
    {
      "cell_type": "markdown",
      "source": [
        "A good practice is to [scale numeric features](https://scikit-learn.org/stable/modules/preprocessing.html#scaling-features-to-a-range) to a small range of values e.g. $(0,1)$. Scaling numeric features ensures that no particular feature has a disproportionate impact on the model's loss. Optimization algorithms also work better in practice with smaller numbers.\n"
      ],
      "metadata": {
        "id": "RfHBHiPI2JU2"
      }
    },
    {
      "cell_type": "markdown",
      "source": [
        "> **QUESTION 7**: Scale numeric values to the $(0, 1)$ range using `MinMaxScaler` from `sklearn.preprocessing`."
      ],
      "metadata": {
        "id": "SEZvAGJt2NRN"
      }
    },
    {
      "cell_type": "code",
      "source": [
        "from sklearn.preprocessing import MinMaxScaler\n",
        "\n",
        "# Create the scaler\n",
        "scaler = MinMaxScaler()\n",
        "\n",
        "# Fit the scaler to the numeric columns\n",
        "scaler.fit(inputs_df[numeric_cols])\n",
        "\n",
        "# Transform and replace the numeric columns\n",
        "inputs_df[numeric_cols] = scaler.transform(inputs_df[numeric_cols])"
      ],
      "metadata": {
        "id": "xRcn3CHs2F8d"
      },
      "execution_count": null,
      "outputs": []
    },
    {
      "cell_type": "markdown",
      "source": [
        "After scaling, the ranges of all numeric columns should be (0, 1)."
      ],
      "metadata": {
        "id": "o-l3QJBm2ccj"
      }
    },
    {
      "cell_type": "code",
      "source": [
        "inputs_df[numeric_cols].describe().loc[['min', 'max']]"
      ],
      "metadata": {
        "id": "UioP8mNB2gq1"
      },
      "execution_count": null,
      "outputs": []
    },
    {
      "cell_type": "markdown",
      "source": [
        "##Encode Categorical Columns\n",
        "Our dataset contains several categorical columns, each with a different number of categories."
      ],
      "metadata": {
        "id": "tl5Hio73jG0Y"
      }
    },
    {
      "cell_type": "code",
      "source": [
        "inputs_df[categorical_cols].nunique().sort_values(ascending=False)"
      ],
      "metadata": {
        "id": "osf6IG2mjIgk"
      },
      "execution_count": null,
      "outputs": []
    },
    {
      "cell_type": "markdown",
      "source": [
        "\n",
        "\n",
        "Since machine learning models can only be trained with numeric data, we need to convert categorical data to numbers. A common technique is to use one-hot encoding for categorical columns.\n",
        "\n",
        "<img src=\"https://i.imgur.com/n8GuiOO.png\" width=\"640\">\n",
        "\n",
        "One hot encoding involves adding a new binary (0/1) column for each unique category of a categorical column."
      ],
      "metadata": {
        "id": "K-lHn31D2riG"
      }
    },
    {
      "cell_type": "markdown",
      "source": [
        "> **QUESTION 8**: Encode categorical columns in the dataset as one-hot vectors using `OneHotEncoder` from `sklearn.preprocessing`. Add a new binary (0/1) column for each category"
      ],
      "metadata": {
        "id": "crFnxAFD2zHY"
      }
    },
    {
      "cell_type": "code",
      "source": [
        "from sklearn.preprocessing import OneHotEncoder\n",
        "\n",
        "# 1. Create the encoder\n",
        "encoder = OneHotEncoder(sparse=False, handle_unknown='ignore')\n",
        "\n",
        "# 2. Fit the encoder to the categorical colums\n",
        "encoder.fit(inputs_df[categorical_cols])\n",
        "\n",
        "# 3. Generate column names for each category\n",
        "encoded_cols = list(encoder.get_feature_names(categorical_cols))\n",
        "len(encoded_cols)"
      ],
      "metadata": {
        "id": "FZawE_Yx28g0"
      },
      "execution_count": null,
      "outputs": []
    },
    {
      "cell_type": "code",
      "source": [
        "# 4. Transform and add new one-hot category columns\n",
        "inputs_df[encoded_cols] = encoder.transform(inputs_df[categorical_cols])"
      ],
      "metadata": {
        "id": "UeiagrpW3BNy"
      },
      "execution_count": null,
      "outputs": []
    },
    {
      "cell_type": "markdown",
      "source": [
        "The new one-hot category columns should now be added to `inputs_df`."
      ],
      "metadata": {
        "id": "2mnsgZ1o3F1Q"
      }
    },
    {
      "cell_type": "markdown",
      "source": [
        "##Training and Validation Set\n",
        "Finally, let's split the dataset into a training and validation set. We'll use a randomly select 25% subset of the data for validation. Also, we'll use just the numeric and encoded columns, since the inputs to our model must be numbers."
      ],
      "metadata": {
        "id": "uVS7HjBzjKAp"
      }
    },
    {
      "cell_type": "code",
      "source": [
        "from sklearn.model_selection import train_test_split\n",
        "train_inputs, val_inputs, train_targets, val_targets = train_test_split(inputs_df[numeric_cols + encoded_cols], \n",
        "                                                                        targets, \n",
        "                                                                        test_size=0.25, \n",
        "                                                                        random_state=42)\n"
      ],
      "metadata": {
        "id": "Fz1MG0IFjPWs"
      },
      "execution_count": null,
      "outputs": []
    },
    {
      "cell_type": "code",
      "source": [
        "train_inputs"
      ],
      "metadata": {
        "id": "GHJr-XzE3P47"
      },
      "execution_count": null,
      "outputs": []
    },
    {
      "cell_type": "code",
      "source": [
        "train_target"
      ],
      "metadata": {
        "id": "Beb7sLS83SiV"
      },
      "execution_count": null,
      "outputs": []
    },
    {
      "cell_type": "code",
      "source": [
        "val_inputs"
      ],
      "metadata": {
        "id": "UAVwiPms3W-l"
      },
      "execution_count": null,
      "outputs": []
    },
    {
      "cell_type": "code",
      "source": [
        "val_targets"
      ],
      "metadata": {
        "id": "TTPqItJq3Yyw"
      },
      "execution_count": null,
      "outputs": []
    },
    {
      "cell_type": "markdown",
      "source": [
        "# Step 3 - Train a Linear Regression Model\n",
        "\n",
        "We're now ready to train the model. Linear regression is a commonly used technique for solving [regression problems](https://jovian.ai/aakashns/python-sklearn-logistic-regression/v/66#C6). In a linear regression model, the target is modeled as a linear combination (or weighted sum) of input features. The predictions from the model are evaluated using a loss function like the Root Mean Squared Error (RMSE).\n",
        "\n",
        "\n",
        "Here's a visual summary of how a linear regression model is structured:\n",
        "\n",
        "<img src=\"https://i.imgur.com/iTM2s5k.png\" width=\"480\">\n",
        "\n",
        "However, linear regression doesn't generalize very well when we have a large number of input columns with co-linearity i.e. when the values one column are highly correlated with values in other column(s). This is because it tries to fit the training data perfectly. \n",
        "\n",
        "Instead, we'll use Ridge Regression, a variant of linear regression that uses a technique called L2 regularization to introduce another loss term that forces the model to generalize better. Learn more about ridge regression here: https://www.youtube.com/watch?v=Q81RR3yKn30"
      ],
      "metadata": {
        "id": "IY7dqLjyk4ZQ"
      }
    },
    {
      "cell_type": "markdown",
      "source": [
        "> **QUESTION 9**: Create and train a linear regression model using the `Ridge` class from `sklearn.linear_model`."
      ],
      "metadata": {
        "id": "KW5zJVpP3myr"
      }
    },
    {
      "cell_type": "code",
      "source": [
        "from sklearn.linear_model import Ridge\n",
        "\n",
        "# Create the model\n",
        "model = Ridge(alpha=1)\n",
        "\n",
        "# Fit the model using inputs and targets\n",
        "model.fit(train_inputs,train_targets)"
      ],
      "metadata": {
        "id": "cO4lE9kDk6HZ"
      },
      "execution_count": null,
      "outputs": []
    },
    {
      "cell_type": "markdown",
      "source": [
        "`model.fit` uses the following strategy for training the model (source):\n",
        "\n",
        "1. We initialize a model with random parameters (weights & biases).\n",
        "2. We pass some inputs into the model to obtain predictions.\n",
        "3. We compare the model's predictions with the actual targets using the loss function.\n",
        "4. We use an optimization technique (like least squares, gradient descent etc.) to reduce the loss by adjusting the weights & biases of the model\n",
        "5. We repeat steps 1 to 4 till the predictions from the model are good enough.\n",
        "\n",
        "<img src=\"https://www.deepnetts.com/blog/wp-content/uploads/2019/02/SupervisedLearning.png\" width=\"480\">"
      ],
      "metadata": {
        "id": "qJx5kKiOlCTr"
      }
    },
    {
      "cell_type": "markdown",
      "source": [
        "# Step 4 - Make Predictions and Evaluate Your Model\n",
        "\n",
        "The model is now trained, and we can use it to generate predictions for the training and validation inputs. We can evaluate the model's performance using the RMSE (root mean squared error) loss function."
      ],
      "metadata": {
        "id": "8sPyXjNLlIKz"
      }
    },
    {
      "cell_type": "markdown",
      "source": [
        "> **QUESTION 10**: Generate predictions and compute the RMSE loss for the training and validation sets. \n",
        "> \n",
        "> *Hint*: Use the `mean_squared_error` with the argument `squared=False` to compute RMSE loss."
      ],
      "metadata": {
        "id": "S_KzvC0O37pZ"
      }
    },
    {
      "cell_type": "code",
      "source": [
        "train_preds =model.predict(train_inputs)"
      ],
      "metadata": {
        "id": "uxi9ItKPlLF3"
      },
      "execution_count": null,
      "outputs": []
    },
    {
      "cell_type": "code",
      "source": [
        "train_preds"
      ],
      "metadata": {
        "id": "LaAqj2id4GGy"
      },
      "execution_count": null,
      "outputs": []
    },
    {
      "cell_type": "code",
      "source": [
        "from sklearn.metrics import mean_squared_error,r2_score\n",
        "# Root mean square error\n",
        "train_rmse=mean_squared_error(train_targets,train_preds,squared=False)\n",
        "print('The RMSE loss for the training set is {}.'.format(train_rmse))\n",
        "# r2_score\n",
        "train_r2=r2_score(train_targets,train_preds)\n",
        "print('The r2_score for the training set is {}.'.format(train_r2))"
      ],
      "metadata": {
        "id": "c4es-Pmk4F2u"
      },
      "execution_count": null,
      "outputs": []
    },
    {
      "cell_type": "code",
      "source": [
        "val_preds = model.predict(val_inputs)"
      ],
      "metadata": {
        "id": "MUqCQZvh4QYV"
      },
      "execution_count": null,
      "outputs": []
    },
    {
      "cell_type": "code",
      "source": [
        "val_preds"
      ],
      "metadata": {
        "id": "9WEMo0sD4RC4"
      },
      "execution_count": null,
      "outputs": []
    },
    {
      "cell_type": "code",
      "source": [
        "val_rmse =mean_squared_error(val_targets,val_preds,squared=False)\n",
        "print('The RMSE loss for the validation set is {}.'.format(val_rmse))\n",
        "train_r2=r2_score(val_targets,val_preds)\n",
        "print('The r2_score for the validation set is {}.'.format(train_r2))"
      ],
      "metadata": {
        "id": "g9GodvSu4V9u"
      },
      "execution_count": null,
      "outputs": []
    },
    {
      "cell_type": "markdown",
      "source": [
        "## Feature Importance\n",
        "\n",
        "Let's look at the weights assigned to different columns, to figure out which columns in the dataset are the most important."
      ],
      "metadata": {
        "id": "d89v9NyplSKI"
      }
    },
    {
      "cell_type": "markdown",
      "source": [
        "> **QUESTION 11**: Identify the weights (or coefficients) assigned to for different features by the model.\n",
        "> \n",
        "> *Hint:* Read [the docs](https://scikit-learn.org/stable/modules/generated/sklearn.linear_model.LinearRegression.html)."
      ],
      "metadata": {
        "id": "FjTOj_Oy4bdK"
      }
    },
    {
      "cell_type": "code",
      "source": [
        "weights = model.coef_.flatten()"
      ],
      "metadata": {
        "id": "-gH7_W7tlTOT"
      },
      "execution_count": null,
      "outputs": []
    },
    {
      "cell_type": "markdown",
      "source": [
        "Let's create a dataframe to view the weight assigned to each column."
      ],
      "metadata": {
        "id": "u4xCHhPDlYcz"
      }
    },
    {
      "cell_type": "code",
      "source": [
        "weights_df = pd.DataFrame({\n",
        "    'columns': train_inputs.columns,\n",
        "    'weight': weights\n",
        "}).sort_values('weight', ascending=False)"
      ],
      "metadata": {
        "id": "5qOJx4tPlavS"
      },
      "execution_count": null,
      "outputs": []
    },
    {
      "cell_type": "code",
      "source": [
        "weights_df"
      ],
      "metadata": {
        "id": "g6NZqbOeld_R"
      },
      "execution_count": null,
      "outputs": []
    },
    {
      "cell_type": "markdown",
      "source": [
        "##Making Predictions\n",
        "The model can be used to make predictions on new inputs using the following helper function:"
      ],
      "metadata": {
        "id": "6DkmZEBOljqB"
      }
    },
    {
      "cell_type": "code",
      "source": [
        "def predict_input(single_input):\n",
        "    input_df = pd.DataFrame([single_input])\n",
        "    input_df[numeric_cols] = imputer.transform(input_df[numeric_cols])\n",
        "    input_df[numeric_cols] = scaler.transform(input_df[numeric_cols])\n",
        "    input_df[encoded_cols] = encoder.transform(input_df[categorical_cols].values)\n",
        "    X_input = input_df[numeric_cols + encoded_cols]\n",
        "    return model.predict(X_input)[0]"
      ],
      "metadata": {
        "id": "5JMIqvQjlm-A"
      },
      "execution_count": null,
      "outputs": []
    },
    {
      "cell_type": "code",
      "source": [
        "sample_input = {\n",
        "    \n",
        "\n",
        "}"
      ],
      "metadata": {
        "id": "38BZVAUs4uB_"
      },
      "execution_count": null,
      "outputs": []
    },
    {
      "cell_type": "code",
      "source": [
        "len(sample_input)"
      ],
      "metadata": {
        "id": "doWRqrKQ4yGv"
      },
      "execution_count": null,
      "outputs": []
    },
    {
      "cell_type": "code",
      "source": [
        "predicted_price = predict_input(sample_input)"
      ],
      "metadata": {
        "id": "rjZtjamn40hk"
      },
      "execution_count": null,
      "outputs": []
    },
    {
      "cell_type": "markdown",
      "source": [
        "##Saving the model\n",
        "Let's save the model (along with other useful objects) to disk, so that we use it for making predictions without retraining."
      ],
      "metadata": {
        "id": "eoWIATCUlqsc"
      }
    },
    {
      "cell_type": "code",
      "source": [
        "import joblib"
      ],
      "metadata": {
        "id": "Dr8K4q7hlsNd"
      },
      "execution_count": null,
      "outputs": []
    },
    {
      "cell_type": "code",
      "source": [
        "house_price_predictor = {\n",
        "    'model': model,\n",
        "    'imputer': imputer,\n",
        "    'scaler': scaler,\n",
        "    'encoder': encoder,\n",
        "    'input_cols': input_cols,\n",
        "    'target_col': target_col,\n",
        "    'numeric_cols': numeric_cols,\n",
        "    'categorical_cols': categorical_cols,\n",
        "    'encoded_cols': encoded_cols\n",
        "}"
      ],
      "metadata": {
        "id": "j4RF-Q4r44vu"
      },
      "execution_count": null,
      "outputs": []
    },
    {
      "cell_type": "code",
      "source": [
        "joblib.dump(house_price_predictor, 'house_price_predictor.joblib')"
      ],
      "metadata": {
        "id": "Qxf-BEKd481o"
      },
      "execution_count": null,
      "outputs": []
    }
  ]
}